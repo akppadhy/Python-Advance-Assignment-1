{
 "cells": [
  {
   "cell_type": "code",
   "execution_count": null,
   "id": "5014bd49-a829-4ea0-ab93-b4ca6fca0644",
   "metadata": {},
   "outputs": [],
   "source": [
    "#1. What is the purpose of Python's OOP?\n",
    "\n",
    "Ans. Object-oriented programming is a programming paradigm that provides a means of structuring programs so that properties \n",
    "and behaviors are bundled into individual objects.\n",
    "\n",
    "The main concept of OOPs is to bind the data and the functions that work on that together as a single unit so that no other part of the code can access this data.\n",
    "\n",
    "Helps in easy maintenance and modification of existing program.\n",
    "\n",
    "Multiple instances of an object can be made."
   ]
  },
  {
   "cell_type": "code",
   "execution_count": null,
   "id": "97bedff5-9211-48fb-8e02-ad5567a9ea82",
   "metadata": {},
   "outputs": [],
   "source": [
    "#2. Where does an inheritance search look for an attribute?\n",
    "\n",
    "\n",
    "Ans. Python searches for an attribute in an upward tree of attributes. \n",
    "It first searches for the attribute in its instance and then looks in the class it is generated from, to all super classes listed in its class header\n",
    "\n"
   ]
  },
  {
   "cell_type": "code",
   "execution_count": null,
   "id": "ec153f52-79bb-4fe2-9926-9f91bcbe0a8c",
   "metadata": {},
   "outputs": [],
   "source": [
    "#3.  How do you distinguish between a class object and an instance object?\n",
    "\n",
    "Ans. The differences between a class object and an instance object are:\n",
    "\n",
    "Class is a template for creating objects whereas object is an instance of class Seperate memory is allocated for each object whenever an object is created. \n",
    "but for a class this doesnot happens. A Class is created once. Many objects are created using a class. As Classes have no allocated memory. \n",
    "they can't be manipulated. but objects can be manipulated.\n",
    "\n"
   ]
  },
  {
   "cell_type": "code",
   "execution_count": null,
   "id": "194f01ab-5670-4a43-a088-7aac748c006f",
   "metadata": {},
   "outputs": [],
   "source": [
    "#4. What makes the first argument in a class’s method function special?\n",
    "\n",
    "Ans. Python Classes usually have three types of methods which are:\n",
    "\n",
    "Instance Methods (object level methods) Class Methods (class level methods) Static Methods (general utility methods)."
   ]
  },
  {
   "cell_type": "code",
   "execution_count": null,
   "id": "7176b0f8-9d45-4c0e-b42c-80d3b899df6a",
   "metadata": {},
   "outputs": [],
   "source": [
    "#5. What is the purpose of the init method?\n",
    "\n",
    "Ans. init is a reseved method in python classes. It serves the role of a constructor in object oriented terminology. \n",
    "This method is called when an object is created from a class and it allows the class to initialize the attributes of the class.\n",
    "\n"
   ]
  },
  {
   "cell_type": "code",
   "execution_count": null,
   "id": "2126f061-b5f1-4df2-8b06-5852d0a99c58",
   "metadata": {},
   "outputs": [],
   "source": [
    "#6. What is the process for creating a class instance?\n",
    "\n",
    "Ans. To create a class instance, we need to call the class by its name and pass the arguments to the class, which its init method accepts.\n",
    "\n",
    "Example: my_name = my_class(\"Mano\",\"vishnu\") Here my_name is an instance of class my_class with attributes \"Mano\" and \"Vishnu\"."
   ]
  },
  {
   "cell_type": "code",
   "execution_count": null,
   "id": "c74311ac-faf7-49d9-9b3a-7d7cb6f2ec50",
   "metadata": {},
   "outputs": [],
   "source": [
    "#7. What is the process for creating a class?\n",
    "\n",
    "Ans. class keyword is used to created a class in python. The syntax to create a class in python is class :\n",
    "class <classname>:\n",
    "\n",
    "Example: class Car: ➞ this creates a class called Car\n"
   ]
  },
  {
   "cell_type": "code",
   "execution_count": null,
   "id": "926f01de-aa5f-4a25-ac69-32ece99d0c58",
   "metadata": {},
   "outputs": [],
   "source": [
    "#8. How would you define the superclasses of a class?\n",
    "\n",
    "Ans. Superclass/Parent class is given as a arugment to the child class."
   ]
  }
 ],
 "metadata": {
  "kernelspec": {
   "display_name": "Python 3 (ipykernel)",
   "language": "python",
   "name": "python3"
  },
  "language_info": {
   "codemirror_mode": {
    "name": "ipython",
    "version": 3
   },
   "file_extension": ".py",
   "mimetype": "text/x-python",
   "name": "python",
   "nbconvert_exporter": "python",
   "pygments_lexer": "ipython3",
   "version": "3.10.6"
  }
 },
 "nbformat": 4,
 "nbformat_minor": 5
}
